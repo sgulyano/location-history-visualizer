{
 "cells": [
  {
   "cell_type": "code",
   "execution_count": 137,
   "metadata": {},
   "outputs": [
    {
     "data": {
      "text/plain": [
       "<Element '{http://www.opengis.net/kml/2.2}kml' at 0x00000296DC7DCE58>"
      ]
     },
     "execution_count": 137,
     "metadata": {},
     "output_type": "execute_result"
    }
   ],
   "source": [
    "import xml.etree.ElementTree as ET\n",
    "tree = ET.parse('YoCovid-19.kml')\n",
    "root = tree.getroot()\n",
    "root"
   ]
  },
  {
   "cell_type": "code",
   "execution_count": 138,
   "metadata": {},
   "outputs": [
    {
     "name": "stdout",
     "output_type": "stream",
     "text": [
      "{http://www.opengis.net/kml/2.2}Document {}\n"
     ]
    }
   ],
   "source": [
    "for child in root:\n",
    "    print (child.tag, child.attrib)"
   ]
  },
  {
   "cell_type": "code",
   "execution_count": 139,
   "metadata": {},
   "outputs": [
    {
     "name": "stdout",
     "output_type": "stream",
     "text": [
      "<Element '{http://www.opengis.net/kml/2.2}Placemark' at 0x00000296DC7E3DB8>\n",
      "<Element '{http://www.opengis.net/kml/2.2}Placemark' at 0x00000296DC7E6098>\n",
      "<Element '{http://www.opengis.net/kml/2.2}Placemark' at 0x00000296DC7E6368>\n",
      "<Element '{http://www.opengis.net/kml/2.2}Placemark' at 0x00000296DC7E6548>\n",
      "<Element '{http://www.opengis.net/kml/2.2}Placemark' at 0x00000296DC7E67C8>\n",
      "<Element '{http://www.opengis.net/kml/2.2}Placemark' at 0x00000296DC7E69A8>\n",
      "<Element '{http://www.opengis.net/kml/2.2}Placemark' at 0x00000296DC7E6B88>\n"
     ]
    }
   ],
   "source": [
    "for results in root.iter('{http://www.opengis.net/kml/2.2}Placemark'):\n",
    "    print(results)"
   ]
  },
  {
   "cell_type": "code",
   "execution_count": 140,
   "metadata": {},
   "outputs": [
    {
     "data": {
      "text/plain": [
       "'บริษัท เพาเวอร์ โซลูชั่น เทคโนโลยี จำกัด (มหาชน)'"
      ]
     },
     "execution_count": 140,
     "metadata": {},
     "output_type": "execute_result"
    }
   ],
   "source": [
    "results.find('{http://www.opengis.net/kml/2.2}name').text.strip()"
   ]
  },
  {
   "cell_type": "code",
   "execution_count": 141,
   "metadata": {},
   "outputs": [
    {
     "data": {
      "text/plain": [
       "['100.6253762', '13.9351813', '0']"
      ]
     },
     "execution_count": 141,
     "metadata": {},
     "output_type": "execute_result"
    }
   ],
   "source": [
    "results.find('{http://www.opengis.net/kml/2.2}Point/{http://www.opengis.net/kml/2.2}coordinates').text.strip().split(',')"
   ]
  },
  {
   "cell_type": "code",
   "execution_count": 142,
   "metadata": {},
   "outputs": [
    {
     "name": "stdout",
     "output_type": "stream",
     "text": [
      "{'name': 'Rajadamnern Muaythai Stadium', 'lon': '100.5088608', 'lat': '13.7611978'}\n",
      "{'name': 'New Lumpinee Boxing Stadium', 'lon': '100.6088098', 'lat': '13.8669948'}\n",
      "{'name': 'Faculty of Science and Technology, Thammasat University', 'lon': '100.6078816', 'lat': '14.0737641'}\n",
      "{'name': 'Faculty of Dentistry, Chulalongkorn University', 'lon': '100.5345553', 'lat': '13.7431515'}\n",
      "{'name': 'Don Mueang International Airport', 'lon': '100.6041987', 'lat': '13.9132602'}\n",
      "{'name': 'Suvarnabhumi Airport', 'lon': '100.7501124', 'lat': '13.6899991'}\n",
      "{'name': 'บริษัท เพาเวอร์ โซลูชั่น เทคโนโลยี จำกัด (มหาชน)', 'lon': '100.6253762', 'lat': '13.9351813'}\n"
     ]
    }
   ],
   "source": [
    "def get_all_location(root, ns='{http://www.opengis.net/kml/2.2}'):\n",
    "    places = []\n",
    "    for results in root.iter(ns+'Placemark'):\n",
    "        #print(results)\n",
    "        lon, lat, _ = results.find(ns+'Point/' + ns+'coordinates').text.strip().split(',')\n",
    "        places.append({\n",
    "            \"name\": results.find(ns+'name').text.strip(),\n",
    "            \"lon\": lon,\n",
    "            \"lat\": lat,\n",
    "        })\n",
    "    return places\n",
    "\n",
    "places = get_all_location(root)\n",
    "for i in places:\n",
    "    print(i)"
   ]
  },
  {
   "cell_type": "code",
   "execution_count": 143,
   "metadata": {},
   "outputs": [],
   "source": [
    "import json\n",
    "with open ('place.json', 'w', encoding='utf-8') as f:\n",
    "    json.dump(places, f)"
   ]
  },
  {
   "cell_type": "code",
   "execution_count": null,
   "metadata": {},
   "outputs": [],
   "source": []
  }
 ],
 "metadata": {
  "kernelspec": {
   "display_name": "Python 3",
   "language": "python",
   "name": "python3"
  },
  "language_info": {
   "codemirror_mode": {
    "name": "ipython",
    "version": 3
   },
   "file_extension": ".py",
   "mimetype": "text/x-python",
   "name": "python",
   "nbconvert_exporter": "python",
   "pygments_lexer": "ipython3",
   "version": "3.7.3"
  }
 },
 "nbformat": 4,
 "nbformat_minor": 4
}
